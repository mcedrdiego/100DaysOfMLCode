{
 "metadata": {
  "language_info": {
   "codemirror_mode": {
    "name": "ipython",
    "version": 3
   },
   "file_extension": ".py",
   "mimetype": "text/x-python",
   "name": "python",
   "nbconvert_exporter": "python",
   "pygments_lexer": "ipython3",
   "version": "3.8.5-final"
  },
  "orig_nbformat": 2,
  "kernelspec": {
   "name": "python3",
   "display_name": "Python 3.8.5 64-bit",
   "metadata": {
    "interpreter": {
     "hash": "932d534d0ec7d19dca237c6e661ce46f7a674af7b7cf883987fb6ae7503e486c"
    }
   }
  }
 },
 "nbformat": 4,
 "nbformat_minor": 2,
 "cells": [
  {
   "source": [
    "# Logistic Regression\n",
    "## Day 4\n",
    "- Sigmoid function\n",
    "- Logistic regression vs Linear Regression\n",
    "## Day 5\n",
    "- Cost Function (Minimizing prediction Error)  \n",
    "## Day 6\n",
    "- Logisitc regression with sklearn"
   ],
   "cell_type": "markdown",
   "metadata": {}
  },
  {
   "cell_type": "code",
   "execution_count": null,
   "metadata": {},
   "outputs": [],
   "source": [
    "import pandas as pd \n",
    "import numpy as np \n",
    "import matplotlib.pyplot as plt \n",
    "\n",
    "data_url = \"https://raw.githubusercontent.com/Avik-Jain/100-Days-Of-ML-Code/master/datasets/Social_Network_Ads.csv\"\n",
    "\n",
    "data = pd.read_csv(data_url, delimiter=',')\n",
    "data.head()"
   ]
  },
  {
   "cell_type": "code",
   "execution_count": null,
   "metadata": {},
   "outputs": [],
   "source": [
    "from sklearn.model_selection import train_test_split\n",
    "\n",
    "# Must change y value to either predict salary or gender, not Purchased\n",
    "X, y = data.iloc[:, 2:-1].values, data.iloc[:,-1:].values\n",
    "X_train, X_test, y_train, y_test = train_test_split(X,y, test_size = 0.35,random_state=1, stratify=y)\n"
   ]
  },
  {
   "cell_type": "code",
   "execution_count": null,
   "metadata": {},
   "outputs": [],
   "source": [
    "from sklearn.preprocessing import StandardScaler\n",
    "sc = StandardScaler()\n",
    "X_train_std = sc.fit_transform(X_train)\n",
    "X_test_std = sc.fit_transform(X_test)"
   ]
  },
  {
   "cell_type": "code",
   "execution_count": null,
   "metadata": {},
   "outputs": [],
   "source": [
    "from sklearn.linear_model import LogisticRegression, Perceptron\n",
    "\n",
    "ppn = Perceptron(eta0=.05, random_state=1)\n",
    "clf = LogisticRegression(C=100.0, random_state=1, solver='lbfgs', multi_class='ovr')\n",
    "clf.fit(X_train_std, y_train.ravel())\n",
    "ppn.fit(X_train_std, y_train.ravel())\n",
    "print(\"Logistic Test Score\",clf.score(X_test_std, y_test))\n",
    "print(\"Perceptron Test Score\",ppn.score(X_test_std, y_test))"
   ]
  },
  {
   "cell_type": "code",
   "execution_count": null,
   "metadata": {},
   "outputs": [],
   "source": [
    "from sklearn.metrics import confusion_matrix, ConfusionMatrixDisplay\n",
    "cm = confusion_matrix(y_test, ppn.predict(X_test_std))\n",
    "dsp = ConfusionMatrixDisplay(confusion_matrix=cm)\n",
    "dsp.plot()"
   ]
  },
  {
   "cell_type": "code",
   "execution_count": null,
   "metadata": {},
   "outputs": [],
   "source": [
    "cm = confusion_matrix(y_test, clf.predict(X_test_std))\n",
    "dsp = ConfusionMatrixDisplay(confusion_matrix=cm)\n",
    "dsp.plot()"
   ]
  },
  {
   "cell_type": "code",
   "execution_count": null,
   "metadata": {},
   "outputs": [],
   "source": []
  }
 ]
}