{
 "metadata": {
  "language_info": {
   "codemirror_mode": {
    "name": "ipython",
    "version": 3
   },
   "file_extension": ".py",
   "mimetype": "text/x-python",
   "name": "python",
   "nbconvert_exporter": "python",
   "pygments_lexer": "ipython3",
   "version": "3.8.5-final"
  },
  "orig_nbformat": 2,
  "kernelspec": {
   "name": "python3",
   "display_name": "Python 3.8.5 64-bit",
   "metadata": {
    "interpreter": {
     "hash": "932d534d0ec7d19dca237c6e661ce46f7a674af7b7cf883987fb6ae7503e486c"
    }
   }
  }
 },
 "nbformat": 4,
 "nbformat_minor": 2,
 "cells": [
  {
   "source": [
    "# Day 3\n",
    "1. Preprocess data\n",
    "* Import Libs\n",
    "* Import Dataset\n",
    "* Check Missing data\n",
    "* Encode Categorical Data \n",
    "* Make dummy variables \n",
    "* Feature scaling\n"
   ],
   "cell_type": "markdown",
   "metadata": {}
  },
  {
   "cell_type": "code",
   "execution_count": 6,
   "metadata": {},
   "outputs": [
    {
     "output_type": "stream",
     "name": "stdout",
     "text": [
      "                     R_D  Administration  Marketing    Profit\nR_D             1.000000        0.241955   0.724248  0.972900\nAdministration  0.241955        1.000000  -0.032154  0.200717\nMarketing       0.724248       -0.032154   1.000000  0.747766\nProfit          0.972900        0.200717   0.747766  1.000000\n"
     ]
    },
    {
     "output_type": "execute_result",
     "data": {
      "text/plain": [
       "         R_D  Administration  Marketing       State     Profit\n",
       "0  165349.20       136897.80  471784.10    New York  192261.83\n",
       "1  162597.70       151377.59  443898.53  California  191792.06\n",
       "2  153441.51       101145.55  407934.54     Florida  191050.39\n",
       "3  144372.41       118671.85  383199.62    New York  182901.99\n",
       "4  142107.34        91391.77  366168.42     Florida  166187.94"
      ],
      "text/html": "<div>\n<style scoped>\n    .dataframe tbody tr th:only-of-type {\n        vertical-align: middle;\n    }\n\n    .dataframe tbody tr th {\n        vertical-align: top;\n    }\n\n    .dataframe thead th {\n        text-align: right;\n    }\n</style>\n<table border=\"1\" class=\"dataframe\">\n  <thead>\n    <tr style=\"text-align: right;\">\n      <th></th>\n      <th>R_D</th>\n      <th>Administration</th>\n      <th>Marketing</th>\n      <th>State</th>\n      <th>Profit</th>\n    </tr>\n  </thead>\n  <tbody>\n    <tr>\n      <th>0</th>\n      <td>165349.20</td>\n      <td>136897.80</td>\n      <td>471784.10</td>\n      <td>New York</td>\n      <td>192261.83</td>\n    </tr>\n    <tr>\n      <th>1</th>\n      <td>162597.70</td>\n      <td>151377.59</td>\n      <td>443898.53</td>\n      <td>California</td>\n      <td>191792.06</td>\n    </tr>\n    <tr>\n      <th>2</th>\n      <td>153441.51</td>\n      <td>101145.55</td>\n      <td>407934.54</td>\n      <td>Florida</td>\n      <td>191050.39</td>\n    </tr>\n    <tr>\n      <th>3</th>\n      <td>144372.41</td>\n      <td>118671.85</td>\n      <td>383199.62</td>\n      <td>New York</td>\n      <td>182901.99</td>\n    </tr>\n    <tr>\n      <th>4</th>\n      <td>142107.34</td>\n      <td>91391.77</td>\n      <td>366168.42</td>\n      <td>Florida</td>\n      <td>166187.94</td>\n    </tr>\n  </tbody>\n</table>\n</div>"
     },
     "metadata": {},
     "execution_count": 6
    }
   ],
   "source": [
    "import numpy as np \n",
    "import pandas as pd \n",
    "\n",
    "data = pd.read_csv(\"https://raw.githubusercontent.com/Avik-Jain/100-Days-Of-ML-Code/master/datasets/50_Startups.csv\", delimiter=',')\n",
    "data.isnull().any() # No missing data\n",
    "data.rename(columns= {'R&D Spend':'R_D', 'Marketing Spend' : 'Marketing'}, inplace = True)\n",
    "print(data.corr())\n",
    "data.head()"
   ]
  },
  {
   "cell_type": "code",
   "execution_count": 8,
   "metadata": {},
   "outputs": [
    {
     "output_type": "stream",
     "name": "stdout",
     "text": [
      "                    Results: Ordinary least squares\n========================================================================\nModel:                 OLS               Adj. R-squared:      0.948     \nDependent Variable:    Profit            AIC:                 1058.7715 \nDate:                  2021-03-25 12:22  BIC:                 1066.4196 \nNo. Observations:      50                Log-Likelihood:      -525.39   \nDf Model:              3                 F-statistic:         296.0     \nDf Residuals:          46                Prob (F-statistic):  4.53e-30  \nR-squared:             0.951             Scale:               8.5236e+07\n------------------------------------------------------------------------\n                 Coef.     Std.Err.    t    P>|t|    [0.025     0.975]  \n------------------------------------------------------------------------\nIntercept      50122.1930 6572.3526  7.6262 0.0000 36892.7333 63351.6526\nR_D                0.8057    0.0451 17.8464 0.0000     0.7148     0.8966\nMarketing          0.0272    0.0165  1.6551 0.1047    -0.0059     0.0603\nAdministration    -0.0268    0.0510 -0.5255 0.6018    -0.1295     0.0759\n------------------------------------------------------------------------\nOmnibus:                14.838         Durbin-Watson:            1.282  \nProb(Omnibus):          0.001          Jarque-Bera (JB):         21.442 \nSkew:                   -0.949         Prob(JB):                 0.000  \nKurtosis:               5.586          Condition No.:            1402132\n========================================================================\n* The condition number is large (1e+06). This might indicate\nstrong multicollinearity or other numerical problems.\n"
     ]
    }
   ],
   "source": [
    "import statsmodels.formula.api as sm \n",
    "\n",
    "model = sm.ols('Profit ~ R_D + Marketing + Administration', data).fit()\n",
    "print(model.summary2())"
   ]
  },
  {
   "cell_type": "code",
   "execution_count": 10,
   "metadata": {},
   "outputs": [
    {
     "output_type": "stream",
     "name": "stdout",
     "text": [
      "R2 =  0.9465353160804393\nRSS =  4256046566.3534527\n"
     ]
    }
   ],
   "source": [
    "model_rd = sm.ols('Profit ~ R_D', data).fit()\n",
    "print('R2 = ',model_rd.rsquared)\n",
    "print('RSS = ', ( ( data.Profit - model_rd.predict() ) **2).sum())"
   ]
  },
  {
   "cell_type": "code",
   "execution_count": 12,
   "metadata": {},
   "outputs": [
    {
     "output_type": "stream",
     "name": "stdout",
     "text": [
      "R2 =  0.9504503015559763\nRSS =  3944394850.324378\n"
     ]
    }
   ],
   "source": [
    "model_rd_mark = sm.ols('Profit ~ R_D + Marketing ', data).fit()\n",
    "print('R2 = ',model_rd_mark.rsquared)\n",
    "print('RSS = ', ( ( data.Profit - model_rd_mark.predict() ) **2).sum())"
   ]
  },
  {
   "cell_type": "code",
   "execution_count": 26,
   "metadata": {},
   "outputs": [
    {
     "output_type": "execute_result",
     "data": {
      "text/plain": [
       "Empty DataFrame\n",
       "Columns: []\n",
       "Index: [0, 1, 2, 3, 4]"
      ],
      "text/html": "<div>\n<style scoped>\n    .dataframe tbody tr th:only-of-type {\n        vertical-align: middle;\n    }\n\n    .dataframe tbody tr th {\n        vertical-align: top;\n    }\n\n    .dataframe thead th {\n        text-align: right;\n    }\n</style>\n<table border=\"1\" class=\"dataframe\">\n  <thead>\n    <tr style=\"text-align: right;\">\n      <th></th>\n    </tr>\n  </thead>\n  <tbody>\n    <tr>\n      <th>0</th>\n    </tr>\n    <tr>\n      <th>1</th>\n    </tr>\n    <tr>\n      <th>2</th>\n    </tr>\n    <tr>\n      <th>3</th>\n    </tr>\n    <tr>\n      <th>4</th>\n    </tr>\n  </tbody>\n</table>\n</div>"
     },
     "metadata": {},
     "execution_count": 26
    }
   ],
   "source": [
    "from sklearn.model_selection import train_test_split\n",
    "from sklearn.preprocessing import LabelEncoder, OneHotEncoder\n",
    "\n",
    "le = LabelEncoder()\n",
    "\n",
    "cat_feature_mask = data.dtypes == object\n",
    "categorical_columns = data.columns[cat_feature_mask].tolist()\n",
    "data[categorical_columns] = data[categorical_columns].apply(lambda col: le.fit_transform(col))\n",
    "data[categorical_columns].head()  "
   ]
  },
  {
   "cell_type": "code",
   "execution_count": 44,
   "metadata": {},
   "outputs": [],
   "source": [
    "from sklearn.compose import ColumnTransformer\n",
    "X, y = data.iloc[:,:-1].values, data.iloc[:,-1:].values\n",
    "\n",
    "ct = ColumnTransformer([('oh_enc', OneHotEncoder(sparse=False), [3]), ], remainder='passthrough')\n",
    "X = ct.fit_transform(X)\n",
    "\n",
    "X_train, X_test, y_train, y_test = train_test_split(X,y, test_size=.2, random_state=0)"
   ]
  },
  {
   "cell_type": "code",
   "execution_count": 45,
   "metadata": {},
   "outputs": [],
   "source": [
    "from sklearn.linear_model import LinearRegression\n",
    "reg = LinearRegression()\n",
    "reg.fit(X_train, y_train)\n",
    "y_pred = reg.predict(X_test)\n"
   ]
  },
  {
   "cell_type": "code",
   "execution_count": 46,
   "metadata": {},
   "outputs": [
    {
     "output_type": "stream",
     "name": "stdout",
     "text": [
      "Mean Squared Error:  83502864.03256583\nMean Absolute Error:  7514.2936596433165\n"
     ]
    }
   ],
   "source": [
    "from sklearn import metrics\n",
    "\n",
    "print('Mean Squared Error: ', metrics.mean_squared_error(y_test, y_pred))\n",
    "print('Mean Absolute Error: ', metrics.mean_absolute_error(y_test, y_pred))\n"
   ]
  },
  {
   "cell_type": "code",
   "execution_count": null,
   "metadata": {},
   "outputs": [],
   "source": []
  }
 ]
}